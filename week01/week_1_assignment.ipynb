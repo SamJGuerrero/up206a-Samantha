{
 "cells": [
  {
   "cell_type": "markdown",
   "id": "df64e930-db94-4b4d-8658-101a1b7b91d9",
   "metadata": {},
   "source": [
    "# Los Angeles Recreation and Parks Boundaries"
   ]
  },
  {
   "cell_type": "markdown",
   "id": "919af15f-90da-4e4a-8def-e94aa14e2fe2",
   "metadata": {},
   "source": [
    "## Introduction"
   ]
  },
  {
   "cell_type": "markdown",
   "id": "4f352861-1454-48f8-8350-70d0475be1c7",
   "metadata": {},
   "source": [
    "For this assignment, I plan to focus on the LA Recreation and Park Boundaries for the city, as this may be a data set I use for my project later in the quarter. This data was accessed from the Geohub LA City open data website, and more information on this dataset can be accessed [here](https://geohub.lacity.org/datasets/lahub::los-angeles-recreation-and-parks-boundaries/about)."
   ]
  },
  {
   "cell_type": "markdown",
   "id": "1147683a-d513-43eb-a2ba-10389fe8c1cb",
   "metadata": {},
   "source": [
    "## Data Exploration"
   ]
  },
  {
   "cell_type": "markdown",
   "id": "789cf6a2-29b1-4733-a63e-2416b8ae35d1",
   "metadata": {},
   "source": [
    "**Step 1:** Import geopandas module in my notebook to support a map creation, if needed. "
   ]
  },
  {
   "cell_type": "code",
   "execution_count": 25,
   "id": "46e4ac3a-70cd-4b86-898a-23a3db4f4e74",
   "metadata": {},
   "outputs": [],
   "source": [
    "import geopandas as gpd"
   ]
  },
  {
   "cell_type": "markdown",
   "id": "86591fb8-0a22-4b10-b323-fc44c8a2dea7",
   "metadata": {},
   "source": [
    "**Step 2:** Import dataset into notebook."
   ]
  },
  {
   "cell_type": "code",
   "execution_count": 26,
   "id": "972ceb35-6142-4d70-80d6-0c854f828647",
   "metadata": {},
   "outputs": [],
   "source": [
    "parks = gpd.read_file('data/LA_Recreation_Parks_Boundaries-shp.zip')"
   ]
  },
  {
   "cell_type": "markdown",
   "id": "bf6228ba-3377-402c-8326-937c952cb87d",
   "metadata": {},
   "source": [
    "**Step 3:** Once the data is imported, run *.shape* in order to see how many rows and columns are in the dataset. "
   ]
  },
  {
   "cell_type": "code",
   "execution_count": 27,
   "id": "424e82aa-4cb2-4f3f-a499-d3e7e65ac041",
   "metadata": {},
   "outputs": [
    {
     "data": {
      "text/plain": [
       "(561, 17)"
      ]
     },
     "execution_count": 27,
     "metadata": {},
     "output_type": "execute_result"
    }
   ],
   "source": [
    "parks.shape"
   ]
  },
  {
   "cell_type": "markdown",
   "id": "4b0ee546-b34d-4e01-9298-92e5e8478e62",
   "metadata": {},
   "source": [
    "**Step 4:** To gather more information about the dataset, I will input the command *.info( )*. This will provide me with additional information about the columns, how many non-null components I have, and what is the dtype for each column in my dataset."
   ]
  },
  {
   "cell_type": "code",
   "execution_count": 28,
   "id": "1a874823-8dc5-480f-80a0-949dd3b02cd8",
   "metadata": {},
   "outputs": [
    {
     "name": "stdout",
     "output_type": "stream",
     "text": [
      "<class 'geopandas.geodataframe.GeoDataFrame'>\n",
      "RangeIndex: 561 entries, 0 to 560\n",
      "Data columns (total 17 columns):\n",
      " #   Column      Non-Null Count  Dtype   \n",
      "---  ------      --------------  -----   \n",
      " 0   FID         561 non-null    int64   \n",
      " 1   OBJECTID    561 non-null    int64   \n",
      " 2   Name_Alpha  561 non-null    object  \n",
      " 3   Area_Acres  561 non-null    float64 \n",
      " 4   Park_ID     561 non-null    object  \n",
      " 5   CD_Real     561 non-null    object  \n",
      " 6   Name_Publi  330 non-null    object  \n",
      " 7   Address     561 non-null    object  \n",
      " 8   Region      561 non-null    object  \n",
      " 9   Name        561 non-null    object  \n",
      " 10  IsSubPark   561 non-null    object  \n",
      " 11  Park_Class  561 non-null    object  \n",
      " 12  Shape_Leng  561 non-null    float64 \n",
      " 13  Shape_Area  561 non-null    float64 \n",
      " 14  Shape__Are  561 non-null    float64 \n",
      " 15  Shape__Len  561 non-null    float64 \n",
      " 16  geometry    561 non-null    geometry\n",
      "dtypes: float64(5), geometry(1), int64(2), object(9)\n",
      "memory usage: 74.6+ KB\n"
     ]
    }
   ],
   "source": [
    "parks.info()"
   ]
  },
  {
   "cell_type": "markdown",
   "id": "e2919a91-e31e-432a-8d77-bf9564905088",
   "metadata": {},
   "source": [
    "**Step 5:** In order to see a piece of the dataset, I can generate samples. I can use the *.head()* command in order to pull the inital rows. Since I only have 2, it only shows column 0 and 1."
   ]
  },
  {
   "cell_type": "code",
   "execution_count": 21,
   "id": "783eda40-e090-4e25-8d89-7009d08d372a",
   "metadata": {},
   "outputs": [
    {
     "data": {
      "text/html": [
       "<div>\n",
       "<style scoped>\n",
       "    .dataframe tbody tr th:only-of-type {\n",
       "        vertical-align: middle;\n",
       "    }\n",
       "\n",
       "    .dataframe tbody tr th {\n",
       "        vertical-align: top;\n",
       "    }\n",
       "\n",
       "    .dataframe thead th {\n",
       "        text-align: right;\n",
       "    }\n",
       "</style>\n",
       "<table border=\"1\" class=\"dataframe\">\n",
       "  <thead>\n",
       "    <tr style=\"text-align: right;\">\n",
       "      <th></th>\n",
       "      <th>FID</th>\n",
       "      <th>OBJECTID</th>\n",
       "      <th>Name_Alpha</th>\n",
       "      <th>Area_Acres</th>\n",
       "      <th>Park_ID</th>\n",
       "      <th>CD_Real</th>\n",
       "      <th>Name_Publi</th>\n",
       "      <th>Address</th>\n",
       "      <th>Region</th>\n",
       "      <th>Name</th>\n",
       "      <th>IsSubPark</th>\n",
       "      <th>Park_Class</th>\n",
       "      <th>Shape_Leng</th>\n",
       "      <th>Shape_Area</th>\n",
       "      <th>Shape__Are</th>\n",
       "      <th>Shape__Len</th>\n",
       "      <th>geometry</th>\n",
       "    </tr>\n",
       "  </thead>\n",
       "  <tbody>\n",
       "    <tr>\n",
       "      <th>0</th>\n",
       "      <td>1</td>\n",
       "      <td>501</td>\n",
       "      <td>CAHUENGA ELEMENTARY COMMUNITY SCHOOL PARK</td>\n",
       "      <td>0.952144</td>\n",
       "      <td>950</td>\n",
       "      <td>10</td>\n",
       "      <td>Cahuenga Elementary School (CSP) JUA</td>\n",
       "      <td>220 S Hobart Blvd, LA 90004</td>\n",
       "      <td>M</td>\n",
       "      <td>Cahuenga Elementary Community School Park</td>\n",
       "      <td>N</td>\n",
       "      <td>N</td>\n",
       "      <td>1253.927964</td>\n",
       "      <td>41475.243387</td>\n",
       "      <td>5629.773438</td>\n",
       "      <td>462.061548</td>\n",
       "      <td>POLYGON ((-118.30493 34.07078, -118.30492 34.0...</td>\n",
       "    </tr>\n",
       "    <tr>\n",
       "      <th>1</th>\n",
       "      <td>2</td>\n",
       "      <td>1</td>\n",
       "      <td>ROBERT F KENNEDY PARK (LAUSD) JUA</td>\n",
       "      <td>0.149252</td>\n",
       "      <td>1056</td>\n",
       "      <td>10</td>\n",
       "      <td>Kennedy (Robert F) Inspiration Memorial Park (...</td>\n",
       "      <td>3400 W Wilshire Blvd, LA 90010</td>\n",
       "      <td>M</td>\n",
       "      <td>Robert F Kennedy Inspiration Memorial Park</td>\n",
       "      <td>N</td>\n",
       "      <td>N</td>\n",
       "      <td>641.470545</td>\n",
       "      <td>6501.374880</td>\n",
       "      <td>882.300781</td>\n",
       "      <td>235.839626</td>\n",
       "      <td>POLYGON ((-118.29797 34.06162, -118.29698 34.0...</td>\n",
       "    </tr>\n",
       "    <tr>\n",
       "      <th>2</th>\n",
       "      <td>3</td>\n",
       "      <td>2</td>\n",
       "      <td>SYCAMORE GROVE PARK</td>\n",
       "      <td>15.873851</td>\n",
       "      <td>736</td>\n",
       "      <td>01</td>\n",
       "      <td>Sycamore Grove Park</td>\n",
       "      <td>4702 N Figueroa St, LA 90042</td>\n",
       "      <td>M</td>\n",
       "      <td>Sycamore Grove Park</td>\n",
       "      <td>N</td>\n",
       "      <td>C</td>\n",
       "      <td>6227.399190</td>\n",
       "      <td>691462.199493</td>\n",
       "      <td>93923.914062</td>\n",
       "      <td>2296.752690</td>\n",
       "      <td>POLYGON ((-118.20111 34.10134, -118.20111 34.1...</td>\n",
       "    </tr>\n",
       "    <tr>\n",
       "      <th>3</th>\n",
       "      <td>4</td>\n",
       "      <td>3</td>\n",
       "      <td>SAN PEDRO WELCOME PARK</td>\n",
       "      <td>0.399500</td>\n",
       "      <td>328</td>\n",
       "      <td>15</td>\n",
       "      <td>Formerly Welcome Park</td>\n",
       "      <td>451 N Gaffey St, San Pedro 90731</td>\n",
       "      <td>P</td>\n",
       "      <td>San Pedro Welcome Park</td>\n",
       "      <td>N</td>\n",
       "      <td>N</td>\n",
       "      <td>560.372862</td>\n",
       "      <td>17402.157978</td>\n",
       "      <td>2344.015625</td>\n",
       "      <td>205.730005</td>\n",
       "      <td>POLYGON ((-118.29287 33.74600, -118.29287 33.7...</td>\n",
       "    </tr>\n",
       "    <tr>\n",
       "      <th>4</th>\n",
       "      <td>5</td>\n",
       "      <td>4</td>\n",
       "      <td>COUNTRY CLUB PARK HERITAGE PLAZA</td>\n",
       "      <td>0.083743</td>\n",
       "      <td>1045</td>\n",
       "      <td>10</td>\n",
       "      <td>AKA Wilton Place Park</td>\n",
       "      <td>1015 S Wilton Pl, LA 90018</td>\n",
       "      <td>M</td>\n",
       "      <td>Country Club Heritage Park</td>\n",
       "      <td>N</td>\n",
       "      <td>N</td>\n",
       "      <td>287.523337</td>\n",
       "      <td>3647.848601</td>\n",
       "      <td>494.953125</td>\n",
       "      <td>105.758132</td>\n",
       "      <td>POLYGON ((-118.31505 34.05232, -118.31499 34.0...</td>\n",
       "    </tr>\n",
       "  </tbody>\n",
       "</table>\n",
       "</div>"
      ],
      "text/plain": [
       "   FID  OBJECTID                                 Name_Alpha  Area_Acres  \\\n",
       "0    1       501  CAHUENGA ELEMENTARY COMMUNITY SCHOOL PARK    0.952144   \n",
       "1    2         1          ROBERT F KENNEDY PARK (LAUSD) JUA    0.149252   \n",
       "2    3         2                        SYCAMORE GROVE PARK   15.873851   \n",
       "3    4         3                     SAN PEDRO WELCOME PARK    0.399500   \n",
       "4    5         4           COUNTRY CLUB PARK HERITAGE PLAZA    0.083743   \n",
       "\n",
       "  Park_ID CD_Real                                         Name_Publi  \\\n",
       "0     950      10               Cahuenga Elementary School (CSP) JUA   \n",
       "1    1056      10  Kennedy (Robert F) Inspiration Memorial Park (...   \n",
       "2     736      01                                Sycamore Grove Park   \n",
       "3     328      15                              Formerly Welcome Park   \n",
       "4    1045      10                              AKA Wilton Place Park   \n",
       "\n",
       "                            Address Region  \\\n",
       "0       220 S Hobart Blvd, LA 90004      M   \n",
       "1    3400 W Wilshire Blvd, LA 90010      M   \n",
       "2      4702 N Figueroa St, LA 90042      M   \n",
       "3  451 N Gaffey St, San Pedro 90731      P   \n",
       "4        1015 S Wilton Pl, LA 90018      M   \n",
       "\n",
       "                                         Name IsSubPark Park_Class  \\\n",
       "0   Cahuenga Elementary Community School Park         N          N   \n",
       "1  Robert F Kennedy Inspiration Memorial Park         N          N   \n",
       "2                         Sycamore Grove Park         N          C   \n",
       "3                      San Pedro Welcome Park         N          N   \n",
       "4                  Country Club Heritage Park         N          N   \n",
       "\n",
       "    Shape_Leng     Shape_Area    Shape__Are   Shape__Len  \\\n",
       "0  1253.927964   41475.243387   5629.773438   462.061548   \n",
       "1   641.470545    6501.374880    882.300781   235.839626   \n",
       "2  6227.399190  691462.199493  93923.914062  2296.752690   \n",
       "3   560.372862   17402.157978   2344.015625   205.730005   \n",
       "4   287.523337    3647.848601    494.953125   105.758132   \n",
       "\n",
       "                                            geometry  \n",
       "0  POLYGON ((-118.30493 34.07078, -118.30492 34.0...  \n",
       "1  POLYGON ((-118.29797 34.06162, -118.29698 34.0...  \n",
       "2  POLYGON ((-118.20111 34.10134, -118.20111 34.1...  \n",
       "3  POLYGON ((-118.29287 33.74600, -118.29287 33.7...  \n",
       "4  POLYGON ((-118.31505 34.05232, -118.31499 34.0...  "
      ]
     },
     "execution_count": 21,
     "metadata": {},
     "output_type": "execute_result"
    }
   ],
   "source": [
    "parks.head()"
   ]
  },
  {
   "cell_type": "markdown",
   "id": "6af41526-b24b-4c07-988e-0d3018b7eba9",
   "metadata": {},
   "source": [
    "**Step 6:** I can use the *.tail()* command to pull the last 5 rows."
   ]
  },
  {
   "cell_type": "code",
   "execution_count": 23,
   "id": "d4081b45-fee4-4ceb-b818-5799ae7029ad",
   "metadata": {},
   "outputs": [
    {
     "data": {
      "text/html": [
       "<div>\n",
       "<style scoped>\n",
       "    .dataframe tbody tr th:only-of-type {\n",
       "        vertical-align: middle;\n",
       "    }\n",
       "\n",
       "    .dataframe tbody tr th {\n",
       "        vertical-align: top;\n",
       "    }\n",
       "\n",
       "    .dataframe thead th {\n",
       "        text-align: right;\n",
       "    }\n",
       "</style>\n",
       "<table border=\"1\" class=\"dataframe\">\n",
       "  <thead>\n",
       "    <tr style=\"text-align: right;\">\n",
       "      <th></th>\n",
       "      <th>FID</th>\n",
       "      <th>OBJECTID</th>\n",
       "      <th>Name_Alpha</th>\n",
       "      <th>Area_Acres</th>\n",
       "      <th>Park_ID</th>\n",
       "      <th>CD_Real</th>\n",
       "      <th>Name_Publi</th>\n",
       "      <th>Address</th>\n",
       "      <th>Region</th>\n",
       "      <th>Name</th>\n",
       "      <th>IsSubPark</th>\n",
       "      <th>Park_Class</th>\n",
       "      <th>Shape_Leng</th>\n",
       "      <th>Shape_Area</th>\n",
       "      <th>Shape__Are</th>\n",
       "      <th>Shape__Len</th>\n",
       "      <th>geometry</th>\n",
       "    </tr>\n",
       "  </thead>\n",
       "  <tbody>\n",
       "    <tr>\n",
       "      <th>556</th>\n",
       "      <td>557</td>\n",
       "      <td>558</td>\n",
       "      <td>LOS ANGELES RIVER GREENWAY - LAUREL CANYON TO ...</td>\n",
       "      <td>3.038460</td>\n",
       "      <td>1137</td>\n",
       "      <td>02</td>\n",
       "      <td>None</td>\n",
       "      <td>12305 W Valleyheart Dr South, Studio City 91604</td>\n",
       "      <td>V</td>\n",
       "      <td>Los Angeles River Greenway</td>\n",
       "      <td>Y</td>\n",
       "      <td>R</td>\n",
       "      <td>6045.514239</td>\n",
       "      <td>132354.800710</td>\n",
       "      <td>17997.195312</td>\n",
       "      <td>2225.912455</td>\n",
       "      <td>POLYGON ((-118.39720 34.14454, -118.39722 34.1...</td>\n",
       "    </tr>\n",
       "    <tr>\n",
       "      <th>557</th>\n",
       "      <td>558</td>\n",
       "      <td>568</td>\n",
       "      <td>SOUTH PALOS VERDES STREET PARK</td>\n",
       "      <td>0.405940</td>\n",
       "      <td>1115</td>\n",
       "      <td>15</td>\n",
       "      <td>South Palos Verdes Street Park, Community Garden</td>\n",
       "      <td>200-220 S Palos Verdes St, 90731</td>\n",
       "      <td>P</td>\n",
       "      <td>South Palos Verdes Street Park</td>\n",
       "      <td>N</td>\n",
       "      <td>N</td>\n",
       "      <td>548.042636</td>\n",
       "      <td>17682.691812</td>\n",
       "      <td>2381.566406</td>\n",
       "      <td>201.240561</td>\n",
       "      <td>POLYGON ((-118.28108 33.74228, -118.28091 33.7...</td>\n",
       "    </tr>\n",
       "    <tr>\n",
       "      <th>558</th>\n",
       "      <td>559</td>\n",
       "      <td>579</td>\n",
       "      <td>SUNNYNOOK RIVER PARK</td>\n",
       "      <td>0.956963</td>\n",
       "      <td>1093</td>\n",
       "      <td>04</td>\n",
       "      <td>Sunnynook River Park</td>\n",
       "      <td>2901 N Glendale Blvd, LA 90039</td>\n",
       "      <td>M</td>\n",
       "      <td>Sunnynook River Park</td>\n",
       "      <td>Y</td>\n",
       "      <td>R</td>\n",
       "      <td>1777.670711</td>\n",
       "      <td>41685.151706</td>\n",
       "      <td>5664.144531</td>\n",
       "      <td>655.615519</td>\n",
       "      <td>POLYGON ((-118.26587 34.11353, -118.26599 34.1...</td>\n",
       "    </tr>\n",
       "    <tr>\n",
       "      <th>559</th>\n",
       "      <td>560</td>\n",
       "      <td>580</td>\n",
       "      <td>LAURELGROVE PEDESTRIAN BRIDGE</td>\n",
       "      <td>0.030827</td>\n",
       "      <td>1138</td>\n",
       "      <td>02</td>\n",
       "      <td>LOS ANGELES RIVER GREENWAY - LAURELGROVE PEDES...</td>\n",
       "      <td>12305 W Valleyheart Dr South, Studio City 91604</td>\n",
       "      <td>V</td>\n",
       "      <td>Los Angeles River Greenway</td>\n",
       "      <td>Y</td>\n",
       "      <td>R</td>\n",
       "      <td>332.093587</td>\n",
       "      <td>1342.839129</td>\n",
       "      <td>182.593750</td>\n",
       "      <td>122.716831</td>\n",
       "      <td>POLYGON ((-118.40092 34.14380, -118.40092 34.1...</td>\n",
       "    </tr>\n",
       "    <tr>\n",
       "      <th>560</th>\n",
       "      <td>561</td>\n",
       "      <td>582</td>\n",
       "      <td>LOS ANGELES RIVER GREENWAY / ELYSIAN VALLEY BI...</td>\n",
       "      <td>4.823865</td>\n",
       "      <td>1116</td>\n",
       "      <td>13</td>\n",
       "      <td>Los Angeles River Greenway / Elysian Valley Bi...</td>\n",
       "      <td>Los Angeles River West bank from N Fletcher Dr...</td>\n",
       "      <td>M</td>\n",
       "      <td>Los Angeles River Greenway / Elysian Valley Bi...</td>\n",
       "      <td>Y</td>\n",
       "      <td>R</td>\n",
       "      <td>27587.841522</td>\n",
       "      <td>210126.738804</td>\n",
       "      <td>28540.562500</td>\n",
       "      <td>10168.838290</td>\n",
       "      <td>MULTIPOLYGON (((-118.24295 34.10337, -118.2429...</td>\n",
       "    </tr>\n",
       "  </tbody>\n",
       "</table>\n",
       "</div>"
      ],
      "text/plain": [
       "     FID  OBJECTID                                         Name_Alpha  \\\n",
       "556  557       558  LOS ANGELES RIVER GREENWAY - LAUREL CANYON TO ...   \n",
       "557  558       568                     SOUTH PALOS VERDES STREET PARK   \n",
       "558  559       579                               SUNNYNOOK RIVER PARK   \n",
       "559  560       580                      LAURELGROVE PEDESTRIAN BRIDGE   \n",
       "560  561       582  LOS ANGELES RIVER GREENWAY / ELYSIAN VALLEY BI...   \n",
       "\n",
       "     Area_Acres Park_ID CD_Real  \\\n",
       "556    3.038460    1137      02   \n",
       "557    0.405940    1115      15   \n",
       "558    0.956963    1093      04   \n",
       "559    0.030827    1138      02   \n",
       "560    4.823865    1116      13   \n",
       "\n",
       "                                            Name_Publi  \\\n",
       "556                                               None   \n",
       "557   South Palos Verdes Street Park, Community Garden   \n",
       "558                               Sunnynook River Park   \n",
       "559  LOS ANGELES RIVER GREENWAY - LAURELGROVE PEDES...   \n",
       "560  Los Angeles River Greenway / Elysian Valley Bi...   \n",
       "\n",
       "                                               Address Region  \\\n",
       "556    12305 W Valleyheart Dr South, Studio City 91604      V   \n",
       "557                   200-220 S Palos Verdes St, 90731      P   \n",
       "558                     2901 N Glendale Blvd, LA 90039      M   \n",
       "559    12305 W Valleyheart Dr South, Studio City 91604      V   \n",
       "560  Los Angeles River West bank from N Fletcher Dr...      M   \n",
       "\n",
       "                                                  Name IsSubPark Park_Class  \\\n",
       "556                         Los Angeles River Greenway         Y          R   \n",
       "557                     South Palos Verdes Street Park         N          N   \n",
       "558                               Sunnynook River Park         Y          R   \n",
       "559                         Los Angeles River Greenway         Y          R   \n",
       "560  Los Angeles River Greenway / Elysian Valley Bi...         Y          R   \n",
       "\n",
       "       Shape_Leng     Shape_Area    Shape__Are    Shape__Len  \\\n",
       "556   6045.514239  132354.800710  17997.195312   2225.912455   \n",
       "557    548.042636   17682.691812   2381.566406    201.240561   \n",
       "558   1777.670711   41685.151706   5664.144531    655.615519   \n",
       "559    332.093587    1342.839129    182.593750    122.716831   \n",
       "560  27587.841522  210126.738804  28540.562500  10168.838290   \n",
       "\n",
       "                                              geometry  \n",
       "556  POLYGON ((-118.39720 34.14454, -118.39722 34.1...  \n",
       "557  POLYGON ((-118.28108 33.74228, -118.28091 33.7...  \n",
       "558  POLYGON ((-118.26587 34.11353, -118.26599 34.1...  \n",
       "559  POLYGON ((-118.40092 34.14380, -118.40092 34.1...  \n",
       "560  MULTIPOLYGON (((-118.24295 34.10337, -118.2429...  "
      ]
     },
     "execution_count": 23,
     "metadata": {},
     "output_type": "execute_result"
    }
   ],
   "source": [
    "parks.tail()"
   ]
  },
  {
   "cell_type": "markdown",
   "id": "2ea87327-7438-4435-96af-a17f46e3bb03",
   "metadata": {},
   "source": [
    "**Step 7:** I can plot the data using *.plot*."
   ]
  },
  {
   "cell_type": "code",
   "execution_count": 24,
   "id": "fbba4960-35b8-4d45-876f-8e83f251cd93",
   "metadata": {},
   "outputs": [
    {
     "data": {
      "text/plain": [
       "<AxesSubplot:>"
      ]
     },
     "execution_count": 24,
     "metadata": {},
     "output_type": "execute_result"
    },
    {
     "data": {
      "image/png": "[encoded data removed]",
      "text/plain": [
       "<Figure size 432x288 with 1 Axes>"
      ]
     },
     "metadata": {
      "needs_background": "light"
     },
     "output_type": "display_data"
    }
   ],
   "source": [
    "parks.plot()"
   ]
  },
  {
   "cell_type": "markdown",
   "id": "b0ea16ec-59f7-49fb-b9e2-35152d25b292",
   "metadata": {},
   "source": [
    "You can see that the data was plotted in what looks like an outline of LA City."
   ]
  },
  {
   "cell_type": "markdown",
   "id": "48eb562b-0d22-44a0-8f33-8471cea61785",
   "metadata": {},
   "source": [
    "### Counting unique values in a column."
   ]
  },
  {
   "cell_type": "markdown",
   "id": "848b6ec1-4bcf-431c-88f7-f2ffebd39d6d",
   "metadata": {},
   "source": [
    "Before I can count unique values in columns, I first need to identify my columns. "
   ]
  },
  {
   "cell_type": "code",
   "execution_count": 29,
   "id": "0e0a75bf-e43d-4ead-9aaa-b0c53d44e62d",
   "metadata": {},
   "outputs": [
    {
     "data": {
      "text/plain": [
       "['FID',\n",
       " 'OBJECTID',\n",
       " 'Name_Alpha',\n",
       " 'Area_Acres',\n",
       " 'Park_ID',\n",
       " 'CD_Real',\n",
       " 'Name_Publi',\n",
       " 'Address',\n",
       " 'Region',\n",
       " 'Name',\n",
       " 'IsSubPark',\n",
       " 'Park_Class',\n",
       " 'Shape_Leng',\n",
       " 'Shape_Area',\n",
       " 'Shape__Are',\n",
       " 'Shape__Len',\n",
       " 'geometry']"
      ]
     },
     "execution_count": 29,
     "metadata": {},
     "output_type": "execute_result"
    }
   ],
   "source": [
    "# what are the columns?\n",
    "parks.columns.to_list()"
   ]
  },
  {
   "cell_type": "markdown",
   "id": "dcffc1aa-e939-484e-9850-4d21a19db70e",
   "metadata": {},
   "source": [
    "**Step 8:** Pull values from a single column."
   ]
  },
  {
   "cell_type": "code",
   "execution_count": 30,
   "id": "12b34130-c137-4931-ba04-80ed0c331a08",
   "metadata": {},
   "outputs": [
    {
     "data": {
      "text/plain": [
       "101    P\n",
       "392    M\n",
       "551    P\n",
       "82     P\n",
       "292    W\n",
       "Name: Region, dtype: object"
      ]
     },
     "execution_count": 30,
     "metadata": {},
     "output_type": "execute_result"
    }
   ],
   "source": [
    "parks['Region'].sample(5)"
   ]
  },
  {
   "cell_type": "markdown",
   "id": "d2d3f855-3cbe-404c-9980-27b3a6b13289",
   "metadata": {},
   "source": [
    "Let's try another column!"
   ]
  },
  {
   "cell_type": "code",
   "execution_count": 31,
   "id": "56c1a4e5-a971-4b5b-a26f-3347ccb3d417",
   "metadata": {},
   "outputs": [
    {
     "data": {
      "text/plain": [
       "400    Hermon Dog Park in Arroyo Seco Park, Arroyo Se...\n",
       "340                                                 None\n",
       "453                                                 None\n",
       "443                      Hermon Park in Arroyo Seco Park\n",
       "242                                                 None\n",
       "325                                                 None\n",
       "100                                                 None\n",
       "68           AKA Cohasset Melba Park, AKA Four Oaks Park\n",
       "442       East Wilmington Greenbelt Park, GreenBelt Park\n",
       "236    Slauson Multipurpose Center, Slauson (James) R...\n",
       "Name: Name_Publi, dtype: object"
      ]
     },
     "execution_count": 31,
     "metadata": {},
     "output_type": "execute_result"
    }
   ],
   "source": [
    "parks['Name_Publi'].sample(10)"
   ]
  },
  {
   "cell_type": "markdown",
   "id": "194329cd-a217-4d83-b39e-b9b133d453b8",
   "metadata": {},
   "source": [
    "**Step 9:** In order to pull the values for one specifici column, I can use *.value_counts()*"
   ]
  },
  {
   "cell_type": "code",
   "execution_count": 33,
   "id": "9d2b807d-9c14-408c-b17d-a70823ec77cf",
   "metadata": {},
   "outputs": [
    {
     "data": {
      "text/plain": [
       "Whitnall Highway Off-Leash Dog Park                                                    2\n",
       "Wilson & Harding Golf Courses                                                          2\n",
       "Griffith Park Region                                                                   2\n",
       "Pico Union Vest Pocket Park, Community Garden                                          1\n",
       "Lincoln Heights Youth Center Complex                                                   1\n",
       "                                                                                      ..\n",
       "MacArthur (General Douglas) Park                                                       1\n",
       "Previously Mid Valley Intergenerational Multipurpose Center                            1\n",
       "Mason Park                                                                             1\n",
       "Mascot Park, Mascot Triangle Park                                                      1\n",
       "Los Angeles River Greenway / Elysian Valley Bikeway (MOU May 2010 for 20 year Term)    1\n",
       "Name: Name_Publi, Length: 327, dtype: int64"
      ]
     },
     "execution_count": 33,
     "metadata": {},
     "output_type": "execute_result"
    }
   ],
   "source": [
    "parks['Name_Publi'].value_counts()"
   ]
  },
  {
   "cell_type": "markdown",
   "id": "914e7641-b426-4ae3-85e4-fc106593eae9",
   "metadata": {},
   "source": [
    "I can also save this as a variable by renaming it."
   ]
  },
  {
   "cell_type": "code",
   "execution_count": null,
   "id": "626f1354-6e07-4627-8e69-3405778643c5",
   "metadata": {},
   "outputs": [],
   "source": []
  }
 ],
 "metadata": {
  "kernelspec": {
   "display_name": "Python 3 (ipykernel)",
   "language": "python",
   "name": "python3"
  },
  "language_info": {
   "codemirror_mode": {
    "name": "ipython",
    "version": 3
   },
   "file_extension": ".py",
   "mimetype": "text/x-python",
   "name": "python",
   "nbconvert_exporter": "python",
   "pygments_lexer": "ipython3",
   "version": "3.9.6"
  }
 },
 "nbformat": 4,
 "nbformat_minor": 5
}
