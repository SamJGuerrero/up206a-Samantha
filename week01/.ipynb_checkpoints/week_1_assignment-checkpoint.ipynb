{
 "cells": [
  {
   "cell_type": "markdown",
   "id": "53965780-4d60-436c-ab7d-d52b6fbe53c0",
   "metadata": {},
   "source": [
    "# <h2> Week 1 Assignment Introduction"
   ]
  },
  {
   "cell_type": "markdown",
   "id": "259ed00c-bdb7-46f0-854a-ccf7125a48bf",
   "metadata": {},
   "source": []
  }
 ],
 "metadata": {
  "kernelspec": {
   "display_name": "Python 3 (ipykernel)",
   "language": "python",
   "name": "python3"
  },
  "language_info": {
   "codemirror_mode": {
    "name": "ipython",
    "version": 3
   },
   "file_extension": ".py",
   "mimetype": "text/x-python",
   "name": "python",
   "nbconvert_exporter": "python",
   "pygments_lexer": "ipython3",
   "version": "3.9.6"
  }
 },
 "nbformat": 4,
 "nbformat_minor": 5
}
